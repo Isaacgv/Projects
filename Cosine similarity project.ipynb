{
 "cells": [
  {
   "cell_type": "markdown",
   "id": "53201e59",
   "metadata": {},
   "source": [
    "# Cosine Similarity\n",
    "\n",
    "It is required from you to write a Python code that:\n",
    "\n",
    "- asks the user to enter 2 sentences\n",
    "- can compare how much the 2 sentences are similar\n",
    "- should use the cosine similarity to compare the sentences\n",
    "- should accept numerical values\n",
    "- should not take special characters into account (\"Hi\" or \"hi\" should be considered as the same sentence)\n",
    "- should deal exactly the same way with upper or lower case characters (\"I am happy\" and \"I am happy...\" should be considered as the same sentence)"
   ]
  },
  {
   "cell_type": "code",
   "execution_count": 193,
   "id": "1fe94073",
   "metadata": {},
   "outputs": [],
   "source": [
    "import numpy as np\n",
    "from collections import Counter, OrderedDict"
   ]
  },
  {
   "cell_type": "code",
   "execution_count": 194,
   "id": "242b9c0d",
   "metadata": {},
   "outputs": [],
   "source": [
    "\n",
    "def dis_cos(text1, text2):\n",
    "    \n",
    "    words1 = Counter(text1.lower().split())\n",
    "    words2 = Counter(text2.lower().split())\n",
    "\n",
    "    set_words1 = set(words1)\n",
    "    set_words2 = set(words2)\n",
    "\n",
    "    all_words = set_words1 | set_words2\n",
    "\n",
    "    diff_word1 = set_words1.symmetric_difference(all_words)\n",
    "    diff_word2 = set_words2.symmetric_difference(all_words)\n",
    "\n",
    "    for word in diff_word1:\n",
    "        words1[word] = 0\n",
    "    for word in diff_word2:\n",
    "        words2[word] = 0\n",
    "\n",
    "    vector1 = [n for word, n in sorted(words1.items())]\n",
    "    vector2 = [n for word, n in sorted(words2.items())]\n",
    "\n",
    "    cos = np.dot(vector1,vector2)/(np.linalg.norm(vector1)*np.linalg.norm(vector2))\n",
    "    return cos"
   ]
  },
  {
   "cell_type": "code",
   "execution_count": 195,
   "id": "37bedb68",
   "metadata": {},
   "outputs": [
    {
     "data": {
      "text/plain": [
       "0.7999999999999998"
      ]
     },
     "execution_count": 195,
     "metadata": {},
     "output_type": "execute_result"
    }
   ],
   "source": [
    "#test1\n",
    "text1 = \"I like to play soccer\"\n",
    "text2 = \"I like to play basket\"\n",
    "dis_cos(text1, text2)"
   ]
  },
  {
   "cell_type": "code",
   "execution_count": 190,
   "id": "f61b9031",
   "metadata": {},
   "outputs": [
    {
     "data": {
      "text/plain": [
       "0.3999999999999999"
      ]
     },
     "execution_count": 190,
     "metadata": {},
     "output_type": "execute_result"
    }
   ],
   "source": [
    "#test2\n",
    "text1 = \"I like to play soccer\"\n",
    "text2 = \"Play soccer with my friends\"\n",
    "dis_cos(text1, text2)"
   ]
  },
  {
   "cell_type": "code",
   "execution_count": 191,
   "id": "f63328cb",
   "metadata": {},
   "outputs": [
    {
     "data": {
      "text/plain": [
       "0.4472135954999579"
      ]
     },
     "execution_count": 191,
     "metadata": {},
     "output_type": "execute_result"
    }
   ],
   "source": [
    "#test3\n",
    "text1 = \"I like to play soccer\"\n",
    "text2 = \"I like study math\"\n",
    "dis_cos(text1, text2)"
   ]
  },
  {
   "cell_type": "code",
   "execution_count": 196,
   "id": "2fc25d92",
   "metadata": {},
   "outputs": [
    {
     "data": {
      "text/plain": [
       "1.0"
      ]
     },
     "execution_count": 196,
     "metadata": {},
     "output_type": "execute_result"
    }
   ],
   "source": [
    "#test4\n",
    "text1 = \"I like study math\"\n",
    "text2 = \"I like study math\"\n",
    "dis_cos(text1, text2)"
   ]
  },
  {
   "cell_type": "code",
   "execution_count": 197,
   "id": "d016909f",
   "metadata": {},
   "outputs": [
    {
     "data": {
      "text/plain": [
       "0.0"
      ]
     },
     "execution_count": 197,
     "metadata": {},
     "output_type": "execute_result"
    }
   ],
   "source": [
    "#test5\n",
    "text1 = \"I like study math\"\n",
    "text2 = \"Playing new games\"\n",
    "dis_cos(text1, text2)"
   ]
  },
  {
   "cell_type": "code",
   "execution_count": null,
   "id": "7e2953c7",
   "metadata": {},
   "outputs": [],
   "source": []
  }
 ],
 "metadata": {
  "kernelspec": {
   "display_name": "Python 3",
   "language": "python",
   "name": "python3"
  },
  "language_info": {
   "codemirror_mode": {
    "name": "ipython",
    "version": 3
   },
   "file_extension": ".py",
   "mimetype": "text/x-python",
   "name": "python",
   "nbconvert_exporter": "python",
   "pygments_lexer": "ipython3",
   "version": "3.8.8"
  }
 },
 "nbformat": 4,
 "nbformat_minor": 5
}
